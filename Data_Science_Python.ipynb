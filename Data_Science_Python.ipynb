{
  "nbformat": 4,
  "nbformat_minor": 0,
  "metadata": {
    "colab": {
      "provenance": []
    },
    "kernelspec": {
      "name": "python3",
      "display_name": "Python 3"
    },
    "language_info": {
      "name": "python"
    }
  },
  "cells": [
    {
      "cell_type": "markdown",
      "source": [
        "**1. Print Statement (Excecuted line by line of the code)**"
      ],
      "metadata": {
        "id": "FzCbULEr6TlF"
      }
    },
    {
      "cell_type": "code",
      "source": [
        "print(\"Hello World\")\n",
        "print ('o---o')\n",
        "print('  I  ')\n",
        "print('*'*5)"
      ],
      "metadata": {
        "colab": {
          "base_uri": "https://localhost:8080/"
        },
        "id": "MlUbdF_W6YCj",
        "outputId": "021c5dbf-4f6d-4dfb-968c-7a7f93312353"
      },
      "execution_count": null,
      "outputs": [
        {
          "output_type": "stream",
          "name": "stdout",
          "text": [
            "Hello World\n",
            "o---o\n",
            "  I  \n",
            "*****\n"
          ]
        }
      ]
    },
    {
      "cell_type": "markdown",
      "source": [
        "**2. Variables**"
      ],
      "metadata": {
        "id": "OZsNdxYF9FjK"
      }
    },
    {
      "cell_type": "code",
      "source": [
        "name= \"John Smith\"\n",
        "age= 20\n",
        "is_newpatient= True\n",
        "type(name)\n",
        "type(age)\n",
        "type(is_newpatient)"
      ],
      "metadata": {
        "id": "vNeCOaqb9GOE",
        "colab": {
          "base_uri": "https://localhost:8080/"
        },
        "outputId": "f9ca0c6c-a1c9-416e-cd3a-c6c915a2567a"
      },
      "execution_count": null,
      "outputs": [
        {
          "output_type": "execute_result",
          "data": {
            "text/plain": [
              "bool"
            ]
          },
          "metadata": {},
          "execution_count": 2
        }
      ]
    },
    {
      "cell_type": "markdown",
      "source": [
        "**3. Getting Inputs**"
      ],
      "metadata": {
        "id": "kePcYqwYNQkn"
      }
    },
    {
      "cell_type": "code",
      "source": [
        "name= input('What is your name? ')\n",
        "color= input('What is your favourite color? ')\n",
        "print(name+' likes '+color+' color'+'.')"
      ],
      "metadata": {
        "colab": {
          "base_uri": "https://localhost:8080/"
        },
        "id": "EaLfLnQaNYmb",
        "outputId": "a128cb1e-f7e4-407a-a645-3dc0f8b568e5"
      },
      "execution_count": null,
      "outputs": [
        {
          "output_type": "stream",
          "name": "stdout",
          "text": [
            "What is your name? Ryan\n",
            "What is your favourite color? Black\n",
            "Ryan likes Black color.\n"
          ]
        }
      ]
    },
    {
      "cell_type": "markdown",
      "source": [
        "**4. Type Conversion- Calculate the age**"
      ],
      "metadata": {
        "id": "v0EhQ_OYOc_b"
      }
    },
    {
      "cell_type": "code",
      "source": [
        "birth_year= input('Enter your birth year: ')\n",
        "print(type(birth_year))\n",
        "birth_year= int(birth_year)\n",
        "print(type(birth_year))\n",
        "age= 2022-birth_year\n",
        "print(age)"
      ],
      "metadata": {
        "colab": {
          "base_uri": "https://localhost:8080/"
        },
        "id": "6GPWxal_Ophi",
        "outputId": "caa40b69-e2b7-4a68-b9f8-a3978aac5aff"
      },
      "execution_count": null,
      "outputs": [
        {
          "output_type": "stream",
          "name": "stdout",
          "text": [
            "Enter your birth year: 2000\n",
            "<class 'str'>\n",
            "<class 'int'>\n",
            "22\n"
          ]
        }
      ]
    },
    {
      "cell_type": "markdown",
      "source": [
        "**5. Pounds to Kilogram Converter**"
      ],
      "metadata": {
        "id": "XtT0w3pD5mvR"
      }
    },
    {
      "cell_type": "code",
      "source": [
        "pounds= input('Enter pounds: ')\n",
        "kilograms=int(pounds)*0.45359237\n",
        "print('Kilograms: '+str(kilograms))"
      ],
      "metadata": {
        "colab": {
          "base_uri": "https://localhost:8080/"
        },
        "id": "8P5v9OJG6hSo",
        "outputId": "7dcd0710-a6b1-4188-dbe6-7fbd86d7b215"
      },
      "execution_count": null,
      "outputs": [
        {
          "output_type": "stream",
          "name": "stdout",
          "text": [
            "Enter pounds: 100\n",
            "Kilograms: 45.359237\n"
          ]
        }
      ]
    },
    {
      "cell_type": "markdown",
      "source": [
        "**6. Strings output**"
      ],
      "metadata": {
        "id": "8vsgkl2h7Ubw"
      }
    },
    {
      "cell_type": "code",
      "source": [
        "print(\"Python's Course for Beginners\")\n",
        "print('Python Course for \"Beginners\"')\n",
        "\n",
        "#Multi lined String\n",
        "print('''\n",
        "Hi Diana\n",
        "Here is our first email to you.\n",
        "\n",
        "Thank you,\n",
        "The Support Team\n",
        "''')"
      ],
      "metadata": {
        "colab": {
          "base_uri": "https://localhost:8080/"
        },
        "id": "4HJdQf0k7d3a",
        "outputId": "0868dcdb-4ae1-445b-e359-a335ce40fa50"
      },
      "execution_count": null,
      "outputs": [
        {
          "output_type": "stream",
          "name": "stdout",
          "text": [
            "Python's Course for Beginners\n",
            "Python Course for \"Beginners\"\n",
            "\n",
            "Hi Diana\n",
            "Here is our first email to you.\n",
            "\n",
            "Thank you,\n",
            "The Support Team\n",
            "\n"
          ]
        }
      ]
    },
    {
      "cell_type": "markdown",
      "source": [
        "**7. Print characters using references**"
      ],
      "metadata": {
        "id": "P3rGdvME8c3e"
      }
    },
    {
      "cell_type": "code",
      "source": [
        "course= 'Python for Beginners'\n",
        "print(course[0])\n",
        "\n",
        "#negative numbers- count from back to front\n",
        "print(course[-1])\n",
        "\n",
        "#print a range of indexes\n",
        "print(course[0:3])\n",
        "#only 0,1,2 are printed \n",
        "\n",
        "print(course[1:])\n",
        "print(course[:5])"
      ],
      "metadata": {
        "colab": {
          "base_uri": "https://localhost:8080/"
        },
        "id": "njDSzzAM8kSA",
        "outputId": "9461a71e-89ab-4fd4-cff6-4a9f3b464594"
      },
      "execution_count": null,
      "outputs": [
        {
          "output_type": "stream",
          "name": "stdout",
          "text": [
            "P\n",
            "s\n",
            "Pyt\n",
            "ython for Beginners\n",
            "Pytho\n"
          ]
        }
      ]
    },
    {
      "cell_type": "markdown",
      "source": [
        "*`Exercise`*"
      ],
      "metadata": {
        "id": "tadfn_go0z8U"
      }
    },
    {
      "cell_type": "code",
      "source": [
        "name= 'Jennifer'\n",
        "print(name[1:-1])"
      ],
      "metadata": {
        "colab": {
          "base_uri": "https://localhost:8080/"
        },
        "id": "JDW4A4eo02qq",
        "outputId": "e677c69f-d68a-4a68-8c5b-2f795bb5c16c"
      },
      "execution_count": null,
      "outputs": [
        {
          "output_type": "stream",
          "name": "stdout",
          "text": [
            "ennife\n"
          ]
        }
      ]
    },
    {
      "cell_type": "markdown",
      "source": [
        "**8. String concatination**"
      ],
      "metadata": {
        "id": "fkuD3E9yA3_B"
      }
    },
    {
      "cell_type": "code",
      "source": [
        "first= 'Emma'\n",
        "last= 'Watson'\n",
        "message= first+ ' '+ last+ ' is an actress'\n",
        "print(message) \n",
        "\n",
        "#f is used as a prefix to define the msg; { } is a place holder\n",
        "msg= f'{first} {last} is an actress'\n",
        "print(msg)"
      ],
      "metadata": {
        "colab": {
          "base_uri": "https://localhost:8080/"
        },
        "id": "L6W6tNtIBxTW",
        "outputId": "db66707e-9f6e-41ce-8390-9724b7382b13"
      },
      "execution_count": null,
      "outputs": [
        {
          "output_type": "stream",
          "name": "stdout",
          "text": [
            "Emma Watson is an actress\n",
            "Emma Watson is an actress\n"
          ]
        }
      ]
    },
    {
      "cell_type": "markdown",
      "source": [
        "**9. String Methods**"
      ],
      "metadata": {
        "id": "6r6eK9SECkU9"
      }
    },
    {
      "cell_type": "code",
      "source": [
        "#Calculate the number of characters in a text\n",
        "fact= 'Diana is the princess of Whales'\n",
        "print(len(fact))\n",
        "\n",
        "#convert to uppercase\n",
        "print(fact.upper())\n",
        "\n",
        "#convert to lowercase\n",
        "print(fact.lower())\n",
        "\n",
        "#find a character and output the position\n",
        "print(fact.find('a'))\n",
        "#case sensitive\n",
        "print(fact.find('e'))\n",
        "print(fact.find('L'))\n",
        "#find a series of characters\n",
        "print(fact.find('princess'))\n",
        "\n",
        "#replace 'is' with 'was'\n",
        "print(fact.replace('is', 'was'))\n",
        "\n",
        "#check whether a character is available in the set\n",
        "'Diana' in fact"
      ],
      "metadata": {
        "colab": {
          "base_uri": "https://localhost:8080/"
        },
        "id": "72LF5TnmCwpk",
        "outputId": "b9ba2ded-c1f7-47c0-c6ce-4ccc3aaddcb8"
      },
      "execution_count": null,
      "outputs": [
        {
          "output_type": "stream",
          "name": "stdout",
          "text": [
            "31\n",
            "DIANA IS THE PRINCESS OF WHALES\n",
            "diana is the princess of whales\n",
            "2\n",
            "11\n",
            "-1\n",
            "13\n",
            "Diana was the princess of Whales\n"
          ]
        },
        {
          "output_type": "execute_result",
          "data": {
            "text/plain": [
              "True"
            ]
          },
          "metadata": {},
          "execution_count": 11
        }
      ]
    },
    {
      "cell_type": "markdown",
      "source": [
        "**10. Arithmetic Operations**"
      ],
      "metadata": {
        "id": "eNscKL1HC6_c"
      }
    },
    {
      "cell_type": "code",
      "source": [
        "print(20/3)\n",
        "\n",
        "#flow division- Whole number part if the answer is a decimal value\n",
        "print(10//3)\n",
        "\n",
        "#modulus- Whole number remainder when a value is divided by another\n",
        "print(10%3)\n",
        "\n",
        "#exponent\n",
        "print(10**3)"
      ],
      "metadata": {
        "colab": {
          "base_uri": "https://localhost:8080/"
        },
        "id": "oL8pe8DMMEPv",
        "outputId": "c6835038-1cdf-4187-c109-54e93fbdd195"
      },
      "execution_count": null,
      "outputs": [
        {
          "output_type": "stream",
          "name": "stdout",
          "text": [
            "6.666666666666667\n",
            "3\n",
            "1\n",
            "1000\n"
          ]
        }
      ]
    },
    {
      "cell_type": "markdown",
      "source": [
        "**11. Operator Precedence**"
      ],
      "metadata": {
        "id": "vZ0UxnZ8NGp9"
      }
    },
    {
      "cell_type": "code",
      "source": [
        "# ()\n",
        "# **\n",
        "# *, /, //, %\n",
        "# +, -\n",
        "\n",
        "print ((10+3)*2**2)"
      ],
      "metadata": {
        "colab": {
          "base_uri": "https://localhost:8080/"
        },
        "id": "ArPe82qKNT4F",
        "outputId": "cdae61aa-75be-42af-ad8a-9bae059eb526"
      },
      "execution_count": null,
      "outputs": [
        {
          "output_type": "stream",
          "name": "stdout",
          "text": [
            "52\n"
          ]
        }
      ]
    },
    {
      "cell_type": "markdown",
      "source": [
        "**12. Math Functions**"
      ],
      "metadata": {
        "id": "Ut4_VJtmOMn5"
      }
    },
    {
      "cell_type": "code",
      "source": [
        "x= 5.355\n",
        "\n",
        "#roundoff\n",
        "print(round(x))\n",
        "\n",
        "#absolute- return the positive value\n",
        "print(abs(-4.63))"
      ],
      "metadata": {
        "colab": {
          "base_uri": "https://localhost:8080/"
        },
        "id": "TdJWgfFhOPXg",
        "outputId": "c9635ffc-05fd-425b-f945-b44144920123"
      },
      "execution_count": null,
      "outputs": [
        {
          "output_type": "stream",
          "name": "stdout",
          "text": [
            "5\n",
            "4.63\n"
          ]
        }
      ]
    },
    {
      "cell_type": "markdown",
      "source": [
        "*`Task 01:Distance between 2 points in 2D plane`*"
      ],
      "metadata": {
        "id": "vnKqwTKK6iY-"
      }
    },
    {
      "cell_type": "code",
      "source": [
        "print(\"Distance between 2 points in 2D plane\")\n",
        "x1= int(input(\"Enter x1 value: \"))\n",
        "y1= int(input(\"Enter y1 value: \"))\n",
        "x2= int(input(\"Enter x2 value: \"))\n",
        "y2= int(input(\"Enter y2 value: \"))\n",
        "\n",
        "# √(x2–x1)^2 + (y2–y1)^2 = ((x2–x1)^2 + (y2–y1)^2)^1/2\n",
        "\n",
        "d= ((((x2 - x1 )**2) + ((y2-y1)**2) )**0.5)\n",
        "print(\"Distance between 2 points in 2D plane: \")\n",
        "print(d)"
      ],
      "metadata": {
        "colab": {
          "base_uri": "https://localhost:8080/"
        },
        "id": "hllkvg4u6lTD",
        "outputId": "94287ccb-888f-4ae5-d101-06a76aac2d7c"
      },
      "execution_count": null,
      "outputs": [
        {
          "output_type": "stream",
          "name": "stdout",
          "text": [
            "Distance between 2 points in 2D plane\n",
            "Enter x1 value: 4\n",
            "Enter y1 value: 3\n",
            "Enter x2 value: 5\n",
            "Enter y2 value: 2\n",
            "Distance between 2 points in 2D plane: \n",
            "1.4142135623730951\n"
          ]
        }
      ]
    },
    {
      "cell_type": "markdown",
      "source": [
        "*`Task 02: Distance between 2 points in 3D plane`*"
      ],
      "metadata": {
        "id": "SlFgX3pJ6stj"
      }
    },
    {
      "cell_type": "code",
      "source": [
        "print(\"Distance between 2 points in 3D plane\")\n",
        "x1= int(input(\"Enter x1 value: \"))\n",
        "y1= int(input(\"Enter y1 value: \"))\n",
        "z1= int(input(\"Enter z1 value: \"))\n",
        "x2= int(input(\"Enter x2 value: \"))\n",
        "y2= int(input(\"Enter y2 value: \"))\n",
        "z2= int(input(\"Enter z2 value: \"))\n",
        "\n",
        "# √(x2–x1)^2 + (y2–y1)^2 + (z2–z1)^2= ((x2–x1)^2 + (y2–y1)^2 + (z2–z1)^2)^1/2\n",
        "\n",
        "d= ((((x2 - x1 )**2) + ((y2-y1)**2) + ((z2-z1)**2))**0.5)\n",
        "print(\"Distance between 2 points in 3D plane: \")\n",
        "print(d)"
      ],
      "metadata": {
        "id": "kfnhqmNn6yEz"
      },
      "execution_count": null,
      "outputs": []
    },
    {
      "cell_type": "markdown",
      "source": [
        "*`Task 03: Distance between 2 points in 4D plane`*"
      ],
      "metadata": {
        "id": "8y6FZ7zS60Eu"
      }
    },
    {
      "cell_type": "code",
      "source": [
        "print(\"Distance between 2 points in 4D plane\")\n",
        "w1= int(input(\"Enter w1 value: \"))\n",
        "x1= int(input(\"Enter x1 value: \"))\n",
        "y1= int(input(\"Enter y1 value: \"))\n",
        "z1= int(input(\"Enter z1 value: \"))\n",
        "w2= int(input(\"Enter w2 value: \"))\n",
        "x2= int(input(\"Enter x2 value: \"))\n",
        "y2= int(input(\"Enter y2 value: \"))\n",
        "z2= int(input(\"Enter z2 value: \"))\n",
        "\n",
        "# √(w2–w1)^2 + (x2–x1)^2 + (y2–y1)^2 + (z2–z1)^2= ((w2–w1)^2 + (x2–x1)^2 + (y2–y1)^2 + (z2–z1)^2)^1/2\n",
        "\n",
        "d= ((((w2 - w1 )**2) + ((x2 - x1 )**2) + ((y2 - y1)**2) + ((z2 - z1)**2))**0.5)\n",
        "print(\"Distance between 2 points in 4D plane: \")\n",
        "print(d)"
      ],
      "metadata": {
        "id": "EYS32gzT63xq"
      },
      "execution_count": null,
      "outputs": []
    },
    {
      "cell_type": "markdown",
      "source": [
        "**13. Math module (https://docs.python.org/3/library/math.html)**"
      ],
      "metadata": {
        "id": "ARW1OHT0P087"
      }
    },
    {
      "cell_type": "code",
      "source": [
        "import math\n",
        "\n",
        "#round of to the nearest higher whole number\n",
        "print(math.ceil(2.25))\n",
        "\n",
        "#round of to the nearest lower whole number\n",
        "print(math.floor(5.93))"
      ],
      "metadata": {
        "colab": {
          "base_uri": "https://localhost:8080/"
        },
        "id": "751B2lh2P7oD",
        "outputId": "72b5e8d3-01f7-458b-dabe-22836e56b740"
      },
      "execution_count": null,
      "outputs": [
        {
          "output_type": "stream",
          "name": "stdout",
          "text": [
            "3\n",
            "5\n"
          ]
        }
      ]
    },
    {
      "cell_type": "markdown",
      "source": [
        "*`Ex: Finding the circumference and area of a circle`*"
      ],
      "metadata": {
        "id": "EMUShxEKN81J"
      }
    },
    {
      "cell_type": "code",
      "source": [
        "import math\n",
        "\n",
        "radius= int(input('Enter the radius of circle: '))\n",
        "\n",
        "circumference= 2*math.pi*radius\n",
        "area= math.pi*radius**2\n",
        "\n",
        "print(f'Circumference of the circle: {circumference}')\n",
        "print(f'Area of the circle: {area}')"
      ],
      "metadata": {
        "colab": {
          "base_uri": "https://localhost:8080/"
        },
        "id": "w1YLJnOoN-n4",
        "outputId": "9eadc228-68f2-481e-cd8c-7e801dab7fc0"
      },
      "execution_count": null,
      "outputs": [
        {
          "output_type": "stream",
          "name": "stdout",
          "text": [
            "Enter the radius of circle: 7\n",
            "Circumference of the circle: 43.982297150257104\n",
            "Area of the circle: 153.93804002589985\n"
          ]
        }
      ]
    },
    {
      "cell_type": "markdown",
      "source": [
        "**14. If Statements**"
      ],
      "metadata": {
        "id": "rXC8MC9mQwZz"
      }
    },
    {
      "cell_type": "code",
      "source": [
        "# If it's hot\n",
        "#   It's a hot day\n",
        "#   Drink plenty of water\n",
        "# Otherwise if it's cold\n",
        "#   It's a cold day\n",
        "#   Wear warm clothes\n",
        "# Otherwise\n",
        "#   It's a lovely day\n",
        "\n",
        "is_hot= False\n",
        "is_cold= True\n",
        "\n",
        "#indentation is important ('Enjoy your day' is the final message due to indentation)\n",
        "if is_hot:\n",
        "  print(\"It's a hot day\")\n",
        "  print(\"Drink plenty of water\")\n",
        "\n",
        "elif is_cold:\n",
        "  print(\"It's a cold day\")\n",
        "  print('Wear warm clothes')\n",
        "\n",
        "else:\n",
        "  print(\"It's a lovely day\")\n",
        "\n",
        "print(\"Enjoy your day\")"
      ],
      "metadata": {
        "colab": {
          "base_uri": "https://localhost:8080/"
        },
        "id": "Rn8a1XTzQ1aC",
        "outputId": "8c0ad040-cf6a-430d-dbc9-703fa7525282"
      },
      "execution_count": null,
      "outputs": [
        {
          "output_type": "stream",
          "name": "stdout",
          "text": [
            "It's a cold day\n",
            "Wear warm clothes\n",
            "Enjoy your day\n"
          ]
        }
      ]
    },
    {
      "cell_type": "markdown",
      "source": [
        "*`Example`*"
      ],
      "metadata": {
        "id": "gIHS0ShkWQFH"
      }
    },
    {
      "cell_type": "code",
      "source": [
        "# Price of a house is $1M.\n",
        "# If buyer has a good credit,\n",
        "#   they need to put down payment of 10%\n",
        "# Otherwise \n",
        "#   they need to put down payment of 20%\n",
        "# Print the down payment\n",
        "\n",
        "has_good_credit= True\n",
        "price= 1000000\n",
        "\n",
        "if has_good_credit:\n",
        "  down_payment= price*0.1\n",
        "\n",
        "else:\n",
        "  down_payment= price*0.2\n",
        "\n",
        "print(f'Down Payment: ${down_payment}')"
      ],
      "metadata": {
        "colab": {
          "base_uri": "https://localhost:8080/"
        },
        "id": "KqV9-xs3WuUB",
        "outputId": "87587651-18d4-4912-a865-a07aa1a25b47"
      },
      "execution_count": null,
      "outputs": [
        {
          "output_type": "stream",
          "name": "stdout",
          "text": [
            "Down Payment: $100000.0\n"
          ]
        }
      ]
    },
    {
      "cell_type": "markdown",
      "source": [
        "**15. Logical Operators- Used when having multiple conditions (AND, OR, NOT)**"
      ],
      "metadata": {
        "id": "4T5Tsw1lYi-d"
      }
    },
    {
      "cell_type": "code",
      "source": [
        "# If applicant has high income AND good credit\n",
        "# Eligible for the loan\n",
        "\n",
        "has_high_income= True\n",
        "has_good_credit= True\n",
        "\n",
        "if has_high_income and has_good_credit:\n",
        "  print('Eligible')\n",
        "\n",
        "else:\n",
        "  print('Not Eligible')"
      ],
      "metadata": {
        "colab": {
          "base_uri": "https://localhost:8080/"
        },
        "id": "7ONhUCxkYml0",
        "outputId": "69799f24-a05d-420e-9800-1d934d1f8f19"
      },
      "execution_count": null,
      "outputs": [
        {
          "output_type": "stream",
          "name": "stdout",
          "text": [
            "Eligible\n"
          ]
        }
      ]
    },
    {
      "cell_type": "markdown",
      "source": [
        "*`Example continued...`*"
      ],
      "metadata": {
        "id": "rXpsbzMvbO81"
      }
    },
    {
      "cell_type": "code",
      "source": [
        "# If applicant has high income AND doesn't have a criminal record\n",
        "# Eligible for the loan\n",
        "\n",
        "has_high_income= True\n",
        "has_criminal_record= True\n",
        "\n",
        "if has_high_income and not has_criminal_record:\n",
        "  print('Eligible')\n",
        "\n",
        "else:\n",
        "  print('Not Eligible')"
      ],
      "metadata": {
        "colab": {
          "base_uri": "https://localhost:8080/"
        },
        "id": "qH5uWb9VbUZc",
        "outputId": "6c140bc3-9f02-407c-b1ba-e4dd713fdc51"
      },
      "execution_count": null,
      "outputs": [
        {
          "output_type": "stream",
          "name": "stdout",
          "text": [
            "Not Eligible\n"
          ]
        }
      ]
    },
    {
      "cell_type": "markdown",
      "source": [
        "**16. Comparison Operators**"
      ],
      "metadata": {
        "id": "vBpHR2iEfu2F"
      }
    },
    {
      "cell_type": "code",
      "source": [
        "# If temperature is greater than 30\n",
        "#   it's a hot day\n",
        "# otherwise if it's less than 10\n",
        "#   it's a cold day\n",
        "# otherwise\n",
        "#   it's neither hot or cold\n",
        "\n",
        "temperature= 45\n",
        "\n",
        "if temperature>30:\n",
        "  print(\"It's a hot day\")\n",
        "\n",
        "elif temperature<10:\n",
        "  print(\"It's a cold day\")\n",
        "\n",
        "else:\n",
        "  print(\"It's neither hot or cold\")"
      ],
      "metadata": {
        "colab": {
          "base_uri": "https://localhost:8080/"
        },
        "id": "64jd1ZdNU-SR",
        "outputId": "964f4e77-beac-4e6b-fe8b-b6c90acc7f66"
      },
      "execution_count": null,
      "outputs": [
        {
          "output_type": "stream",
          "name": "stdout",
          "text": [
            "It's a hot day\n"
          ]
        }
      ]
    },
    {
      "cell_type": "markdown",
      "source": [
        "*`Example:`*"
      ],
      "metadata": {
        "id": "JgomeP0pV18p"
      }
    },
    {
      "cell_type": "code",
      "source": [
        "# if name is less than 3 characters long \n",
        "#   name must be at least 3 characters \n",
        "# otherwise if it's more than 50 characters long \n",
        "#   name can be a maximum of 50 characters \n",
        "# otherwise\n",
        "#   name looks good!\n",
        "\n",
        "name= 'Rose'\n",
        "\n",
        "if len(name)<3:\n",
        "  print('Name must be at least 3 characters')\n",
        "\n",
        "elif len(name)>50:\n",
        "  print('Name can be a maximum of 50 characters')\n",
        "\n",
        "else:\n",
        "  print('Name looks good!')"
      ],
      "metadata": {
        "colab": {
          "base_uri": "https://localhost:8080/"
        },
        "id": "5DH7ggxdWllR",
        "outputId": "75fb5eae-a55b-4593-90ca-6319d267a514"
      },
      "execution_count": null,
      "outputs": [
        {
          "output_type": "stream",
          "name": "stdout",
          "text": [
            "Name looks good!\n"
          ]
        }
      ]
    },
    {
      "cell_type": "markdown",
      "source": [
        "***`Practice Exercise`***"
      ],
      "metadata": {
        "id": "yon_RW5LXzFt"
      }
    },
    {
      "cell_type": "code",
      "source": [
        "weight= int(input('Weight: '))\n",
        "unit= str(input('(L)bs or (K)g: '))\n",
        "\n",
        "#if the user enters l there won't be a result (case sensitive)\n",
        "if unit.upper()== 'L':\n",
        "   kilos=int(weight)*0.45359237\n",
        "   print(f'You are {kilos} kg')\n",
        "\n",
        "elif unit.upper()== 'K':\n",
        "  pounds= int(weight)/0.45359237\n",
        "  print(f'You are {pounds} lbs')\n",
        "\n",
        "else:\n",
        "  print('Invalid unit')"
      ],
      "metadata": {
        "colab": {
          "base_uri": "https://localhost:8080/"
        },
        "id": "bN5j2oHOX-Gi",
        "outputId": "7dfd6504-9d29-47bd-b241-eed83f9b8591"
      },
      "execution_count": null,
      "outputs": [
        {
          "output_type": "stream",
          "name": "stdout",
          "text": [
            "Weight: 130\n",
            "(L)bs or (K)g: l\n",
            "You are 58.9670081 kg\n"
          ]
        }
      ]
    },
    {
      "cell_type": "markdown",
      "source": [
        "**17. While Loops**"
      ],
      "metadata": {
        "id": "d-WNGwtKcDc7"
      }
    },
    {
      "cell_type": "code",
      "source": [
        "# while condition:\n",
        "#   ...block of code\n",
        "\n",
        "# As long as the condition is satisfied the block of code will be executed.\n",
        "\n",
        "i=1\n",
        "while i<=5:\n",
        "  print('*'*i)\n",
        "  i+=1"
      ],
      "metadata": {
        "colab": {
          "base_uri": "https://localhost:8080/"
        },
        "id": "rlt-lmafcOdq",
        "outputId": "5ef43339-a9f9-48d5-c72f-4bc9251930f6"
      },
      "execution_count": null,
      "outputs": [
        {
          "output_type": "stream",
          "name": "stdout",
          "text": [
            "*\n",
            "**\n",
            "***\n",
            "****\n",
            "*****\n"
          ]
        }
      ]
    },
    {
      "cell_type": "markdown",
      "source": [
        "*`Ex: Guessing Game- Guess the secret number within 3 attempts`*"
      ],
      "metadata": {
        "id": "e8styHGOhMm4"
      }
    },
    {
      "cell_type": "code",
      "source": [
        "secret_no= 4\n",
        "attempt_no= 1\n",
        "attempt_limit= 3\n",
        "\n",
        "while attempt_no<= attempt_limit:\n",
        "  guess= int(input(f'Guess {attempt_no}: '))\n",
        "  attempt_no+=1\n",
        "  \n",
        "  if guess== secret_no:\n",
        "    print('You Won!')  \n",
        "    break\n",
        "\n",
        "#In Python, while loops can also have an else part\n",
        "else:\n",
        "    print('You Lose!')"
      ],
      "metadata": {
        "id": "Lo30elxHhVVI",
        "colab": {
          "base_uri": "https://localhost:8080/"
        },
        "outputId": "33971c7d-e4ed-4eaf-d377-0459bfeb0912"
      },
      "execution_count": null,
      "outputs": [
        {
          "output_type": "stream",
          "name": "stdout",
          "text": [
            "Guess 1: 2\n",
            "Guess 2: 4\n",
            "You Won!\n"
          ]
        }
      ]
    },
    {
      "cell_type": "markdown",
      "source": [
        "***`Practice Exercise`***"
      ],
      "metadata": {
        "id": "PJTryNf3QEbO"
      }
    },
    {
      "cell_type": "code",
      "source": [
        "# It works as follows if these commands are given\n",
        "\n",
        "# help--> start- to start the car\n",
        "#         stop- to stop the car\n",
        "#         quit- to exit\n",
        "# if another command is given--> I don't understand\n",
        "# start--> Car started... Ready to go\n",
        "# stop-->  Car stopped\n",
        "# quit-->  Game stops\n",
        "\n",
        "car_started= False\n",
        "\n",
        "# The loop will run explicitly until it breaks\n",
        "while True:\n",
        "  command= input('Enter your command: ').lower()\n",
        "\n",
        "  if command=='help':\n",
        "    #multi line commands\n",
        "    #the reason for the indent is the space between the start and the word start--> when typed between triple caughts\n",
        "    print(\"\"\"\n",
        "    start- to start the car\n",
        "    stop- to stop the car\n",
        "    quit- to exit\n",
        "    \"\"\")\n",
        "\n",
        "  elif command=='start':\n",
        "    if car_started==True:\n",
        "      print('Car already started')\n",
        "    else:\n",
        "      car_started= True\n",
        "      print('Car started... Ready to go')\n",
        "\n",
        "  elif command=='stop':\n",
        "    if not car_started:\n",
        "      print('Car already stopped')\n",
        "    else:\n",
        "      car_started= False\n",
        "      print('Car stopped')\n",
        "\n",
        "  elif command == 'quit':\n",
        "    break\n",
        "\n",
        "  else:\n",
        "    print(\"I don't understand\")\n"
      ],
      "metadata": {
        "colab": {
          "base_uri": "https://localhost:8080/"
        },
        "id": "ErJ0HDaHQFCd",
        "outputId": "12718fee-7b0e-4c2b-8b1e-1624df2c6c55"
      },
      "execution_count": null,
      "outputs": [
        {
          "name": "stdout",
          "output_type": "stream",
          "text": [
            "Enter your command: help\n",
            "\n",
            "    start- to start the car\n",
            "    stop- to stop the car\n",
            "    quit- to exit\n",
            "    \n",
            "Enter your command: start\n",
            "Car started... Ready to go\n",
            "Enter your command: start\n",
            "Car already started\n",
            "Enter your command: stop\n",
            "Car stopped\n",
            "Enter your command: stop\n",
            "Car already stopped\n",
            "Enter your command: quit\n"
          ]
        }
      ]
    },
    {
      "cell_type": "markdown",
      "source": [
        "**18. For Loops**"
      ],
      "metadata": {
        "id": "bOHJb6R9UzqE"
      }
    },
    {
      "cell_type": "code",
      "source": [
        "#Example 1\n",
        "for item in 'Mirenda':\n",
        "  print(item)"
      ],
      "metadata": {
        "colab": {
          "base_uri": "https://localhost:8080/"
        },
        "id": "nibwdRue7WkC",
        "outputId": "c4d03ba5-0488-4a3a-d3c6-3d4f9a8b0ce1"
      },
      "execution_count": null,
      "outputs": [
        {
          "output_type": "stream",
          "name": "stdout",
          "text": [
            "M\n",
            "i\n",
            "r\n",
            "e\n",
            "n\n",
            "d\n",
            "a\n"
          ]
        }
      ]
    },
    {
      "cell_type": "code",
      "source": [
        "#Example 2- Using a list\n",
        "for item in ['Amanda','Izabel','Riannah']:\n",
        "  print(item)"
      ],
      "metadata": {
        "colab": {
          "base_uri": "https://localhost:8080/"
        },
        "id": "Fvg7Kzwt8GCR",
        "outputId": "8f028a50-9e19-4a59-a25b-b6017dfd6eb7"
      },
      "execution_count": null,
      "outputs": [
        {
          "output_type": "stream",
          "name": "stdout",
          "text": [
            "Amanda\n",
            "Izabel\n",
            "Riannah\n"
          ]
        }
      ]
    },
    {
      "cell_type": "code",
      "source": [
        "#Example 3- Range\n",
        "for item in range(10):\n",
        "  print(item+1)"
      ],
      "metadata": {
        "colab": {
          "base_uri": "https://localhost:8080/"
        },
        "id": "t4SjYlTk8g_h",
        "outputId": "3e5eb2ba-ea16-463c-d6bf-7f305a57ed92"
      },
      "execution_count": null,
      "outputs": [
        {
          "output_type": "stream",
          "name": "stdout",
          "text": [
            "1\n",
            "2\n",
            "3\n",
            "4\n",
            "5\n",
            "6\n",
            "7\n",
            "8\n",
            "9\n",
            "10\n"
          ]
        }
      ]
    },
    {
      "cell_type": "code",
      "source": [
        "#Example 3- Range (from,to)\n",
        "for item in range(5,10):\n",
        "  print(item)"
      ],
      "metadata": {
        "colab": {
          "base_uri": "https://localhost:8080/"
        },
        "id": "0U6UYTDZ8yQI",
        "outputId": "936113ef-2fb6-417e-f0f7-39bdaf189bec"
      },
      "execution_count": null,
      "outputs": [
        {
          "output_type": "stream",
          "name": "stdout",
          "text": [
            "5\n",
            "6\n",
            "7\n",
            "8\n",
            "9\n"
          ]
        }
      ]
    },
    {
      "cell_type": "code",
      "source": [
        "#Example 3- Range (from,to,difference)\n",
        "for item in range(5,10,2):\n",
        "  print(item)"
      ],
      "metadata": {
        "colab": {
          "base_uri": "https://localhost:8080/"
        },
        "id": "GW0QtoLZ9J14",
        "outputId": "7e1b2055-0931-4db9-99ca-706d5eb388a1"
      },
      "execution_count": null,
      "outputs": [
        {
          "output_type": "stream",
          "name": "stdout",
          "text": [
            "5\n",
            "7\n",
            "9\n"
          ]
        }
      ]
    },
    {
      "cell_type": "markdown",
      "source": [
        "*`Example- Display total of the products baught from a super market`*"
      ],
      "metadata": {
        "id": "UuF0g0z09Xfn"
      }
    },
    {
      "cell_type": "code",
      "source": [
        "prices= [10,20,30]\n",
        "total=0\n",
        "\n",
        "for price in prices:\n",
        "  total+= price\n",
        "print(f'Total: {total}')"
      ],
      "metadata": {
        "colab": {
          "base_uri": "https://localhost:8080/"
        },
        "id": "1A4bwrIY9dI3",
        "outputId": "14435167-cc12-4fcc-a3fe-d947d94ef81c"
      },
      "execution_count": null,
      "outputs": [
        {
          "output_type": "stream",
          "name": "stdout",
          "text": [
            "Total: 60\n"
          ]
        }
      ]
    },
    {
      "cell_type": "markdown",
      "source": [
        "**19. Nested Loops**"
      ],
      "metadata": {
        "id": "JLJRGT0_-t_A"
      }
    },
    {
      "cell_type": "code",
      "source": [
        "#Getting quardinates of a graph\n",
        "#print (0,0)\n",
        "#      (0,1)\n",
        "#      .....\n",
        "#      (4,4)\n",
        "\n",
        "for x in range(4):\n",
        "  for y in range(3):\n",
        "    print(f'({x},{y})')"
      ],
      "metadata": {
        "colab": {
          "base_uri": "https://localhost:8080/"
        },
        "id": "5zTMs-LP-xjP",
        "outputId": "26dbb2d9-78d8-4ef0-c8b5-4aafc0c86bf8"
      },
      "execution_count": null,
      "outputs": [
        {
          "output_type": "stream",
          "name": "stdout",
          "text": [
            "(0,0)\n",
            "(0,1)\n",
            "(0,2)\n",
            "(1,0)\n",
            "(1,1)\n",
            "(1,2)\n",
            "(2,0)\n",
            "(2,1)\n",
            "(2,2)\n",
            "(3,0)\n",
            "(3,1)\n",
            "(3,2)\n"
          ]
        }
      ]
    },
    {
      "cell_type": "markdown",
      "source": [
        "*`Example- Printing F letter`*"
      ],
      "metadata": {
        "id": "nBtkWo_KAV6R"
      }
    },
    {
      "cell_type": "code",
      "source": [
        "counts= [5,2,5,2,2]\n",
        "\n",
        "for count in counts:\n",
        "  print('*'*count)"
      ],
      "metadata": {
        "colab": {
          "base_uri": "https://localhost:8080/"
        },
        "id": "vVMc88YHAcrZ",
        "outputId": "d0ea8fec-6fd3-448c-a647-0aaa6d402655"
      },
      "execution_count": null,
      "outputs": [
        {
          "output_type": "stream",
          "name": "stdout",
          "text": [
            "*****\n",
            "**\n",
            "*****\n",
            "**\n",
            "**\n"
          ]
        }
      ]
    },
    {
      "cell_type": "code",
      "source": [
        "#Letter L Using inner loops\n",
        "x_counts= [1,1,1,1,6]\n",
        "\n",
        "for x_count in x_counts:\n",
        "  output= ''\n",
        "  for count in range(x_count):\n",
        "    output+= 'x'\n",
        "  print(output)"
      ],
      "metadata": {
        "colab": {
          "base_uri": "https://localhost:8080/"
        },
        "id": "FcDdSGaDBMJl",
        "outputId": "a883d2a2-08b2-4f32-fb62-f1e097a4eb8e"
      },
      "execution_count": null,
      "outputs": [
        {
          "output_type": "stream",
          "name": "stdout",
          "text": [
            "x\n",
            "x\n",
            "x\n",
            "x\n",
            "xxxxxx\n"
          ]
        }
      ]
    },
    {
      "cell_type": "markdown",
      "source": [
        "**20. Lists**"
      ],
      "metadata": {
        "id": "iPevuNJoE5cH"
      }
    },
    {
      "cell_type": "code",
      "source": [
        "names= ['Cherry','Strawberry','Mango','Orange','Apple','Avacado']\n",
        "print(names[0])\n",
        "print(names[-1])\n",
        "print(names[1:4])\n",
        "print(names[2:])\n",
        "print(names[:3])\n",
        "\n",
        "#modify list\n",
        "names[3]='Plums'\n",
        "print(names)"
      ],
      "metadata": {
        "colab": {
          "base_uri": "https://localhost:8080/"
        },
        "id": "VgR9KnEhE8Aa",
        "outputId": "83e63981-097a-4be6-e29f-8c3f8ba76561"
      },
      "execution_count": null,
      "outputs": [
        {
          "output_type": "stream",
          "name": "stdout",
          "text": [
            "Cherry\n",
            "Avacado\n",
            "['Strawberry', 'Mango', 'Orange']\n",
            "['Mango', 'Orange', 'Apple', 'Avacado']\n",
            "['Cherry', 'Strawberry', 'Mango']\n",
            "['Cherry', 'Strawberry', 'Mango', 'Plums', 'Apple', 'Avacado']\n"
          ]
        }
      ]
    },
    {
      "cell_type": "markdown",
      "source": [
        "*`Example- Find the largest number in a list`*"
      ],
      "metadata": {
        "id": "kOOxzJF6GT5p"
      }
    },
    {
      "cell_type": "code",
      "source": [
        "numbers= [3,5,7,2,5,9,0]\n",
        "highest=numbers[0]\n",
        "\n",
        "for number in numbers:\n",
        "  if number> highest:\n",
        "    highest= number\n",
        "print(f'Highest number: {highest}')"
      ],
      "metadata": {
        "colab": {
          "base_uri": "https://localhost:8080/"
        },
        "id": "0-Zcd1ydGTdp",
        "outputId": "03e4f2bb-2970-4304-e8ad-c8983cc92320"
      },
      "execution_count": null,
      "outputs": [
        {
          "output_type": "stream",
          "name": "stdout",
          "text": [
            "Highest number: 9\n"
          ]
        }
      ]
    },
    {
      "cell_type": "markdown",
      "source": [
        "**21. 2D Lists**"
      ],
      "metadata": {
        "id": "_0_s1hzZHnls"
      }
    },
    {
      "cell_type": "code",
      "source": [
        "#matrix representation\n",
        "matrix= [\n",
        "    [2,6,4],\n",
        "    [6,1,0],\n",
        "    [8,3,9]\n",
        "]\n",
        "print(matrix [2][1])"
      ],
      "metadata": {
        "colab": {
          "base_uri": "https://localhost:8080/"
        },
        "id": "MvvW-PEPHsFh",
        "outputId": "02138dca-bd85-4a32-e32b-7084b526ef39"
      },
      "execution_count": null,
      "outputs": [
        {
          "output_type": "stream",
          "name": "stdout",
          "text": [
            "3\n"
          ]
        }
      ]
    },
    {
      "cell_type": "code",
      "source": [
        "#output the matrix\n",
        "matrix= [\n",
        "    [2,6,4],\n",
        "    [6,1,0],\n",
        "    [8,3,9]\n",
        "]\n",
        "for row in matrix:\n",
        "  for item in row:\n",
        "    print(item)"
      ],
      "metadata": {
        "colab": {
          "base_uri": "https://localhost:8080/"
        },
        "id": "Ip8cND1ZIjLi",
        "outputId": "6d239426-c564-43b5-9f97-5209e745b23d"
      },
      "execution_count": null,
      "outputs": [
        {
          "output_type": "stream",
          "name": "stdout",
          "text": [
            "2\n",
            "6\n",
            "4\n",
            "6\n",
            "1\n",
            "0\n",
            "8\n",
            "3\n",
            "9\n"
          ]
        }
      ]
    },
    {
      "cell_type": "markdown",
      "source": [
        "**22. List Methods**"
      ],
      "metadata": {
        "id": "T3JP0i3AJs_v"
      }
    },
    {
      "cell_type": "code",
      "source": [
        "numbers= [2,5,7,9,1,3,4,2]\n",
        "#copy of the original list\n",
        "numbers_copy= numbers.copy()\n",
        "\n",
        "#add to the end of the list\n",
        "numbers.append(0)\n",
        "print(numbers)\n",
        "\n",
        "#insert a number to the list--> list.insert(index,value)\n",
        "numbers.insert(2,8)\n",
        "print(numbers)\n",
        "\n",
        "#remove a number--> list.remove(value)\n",
        "numbers.remove(7)\n",
        "print(numbers)\n",
        "\n",
        "#remove the last number--> list.pop()\n",
        "numbers.pop()\n",
        "print(numbers)\n",
        "\n",
        "#check whether the item is present\n",
        "print(numbers.index(9))\n",
        "print(3 in numbers)\n",
        "\n",
        "#count the number of occurances in the list\n",
        "print(numbers.count(2))\n",
        "\n",
        "#ascending order\n",
        "numbers.sort()\n",
        "print(numbers)\n",
        "numbers.reverse()\n",
        "print(numbers)\n",
        "\n",
        "#clear the list--> list.clear()\n",
        "numbers.clear()\n",
        "print(numbers)\n",
        "\n",
        "print(numbers_copy)"
      ],
      "metadata": {
        "colab": {
          "base_uri": "https://localhost:8080/"
        },
        "id": "h7ImjWB5J8mC",
        "outputId": "3cf09508-6175-4282-af2e-d684bdfc493c"
      },
      "execution_count": null,
      "outputs": [
        {
          "output_type": "stream",
          "name": "stdout",
          "text": [
            "[2, 5, 7, 9, 1, 3, 4, 2, 0]\n",
            "[2, 5, 8, 7, 9, 1, 3, 4, 2, 0]\n",
            "[2, 5, 8, 9, 1, 3, 4, 2, 0]\n",
            "[2, 5, 8, 9, 1, 3, 4, 2]\n",
            "3\n",
            "True\n",
            "2\n",
            "[1, 2, 2, 3, 4, 5, 8, 9]\n",
            "[9, 8, 5, 4, 3, 2, 2, 1]\n",
            "[]\n",
            "[2, 5, 7, 9, 1, 3, 4, 2]\n"
          ]
        }
      ]
    },
    {
      "cell_type": "markdown",
      "source": [
        "*`example: Remove duplicates in a list`*"
      ],
      "metadata": {
        "id": "uczWXZubMnke"
      }
    },
    {
      "cell_type": "code",
      "source": [
        "numbers= [2,4,2,2,6,8,9,3]\n",
        "unique_list= []\n",
        "\n",
        "#when considering the element list, if the number doesnot include in unique_list, add it to the list\n",
        "for number in numbers:\n",
        "  if number not in unique_list:\n",
        "    unique_list.append(number)\n",
        "print(unique_list)"
      ],
      "metadata": {
        "colab": {
          "base_uri": "https://localhost:8080/"
        },
        "id": "Zc3BevcsNNKT",
        "outputId": "c43df61e-5188-4ceb-8e61-f8f209e65467"
      },
      "execution_count": null,
      "outputs": [
        {
          "output_type": "stream",
          "name": "stdout",
          "text": [
            "[2, 4, 6, 8, 9, 3]\n"
          ]
        }
      ]
    },
    {
      "cell_type": "markdown",
      "source": [
        "**23. Tuples- Immutable (Can't add, remove-->only has count,index)**"
      ],
      "metadata": {
        "id": "9brSXYnFXOjE"
      }
    },
    {
      "cell_type": "code",
      "source": [
        "numbers= (1,5,6,3,8,4,0,9)\n",
        "\n",
        "print(numbers[0])\n",
        "print(numbers.append(2))"
      ],
      "metadata": {
        "colab": {
          "base_uri": "https://localhost:8080/",
          "height": 228
        },
        "id": "nzh6EIsiXWyO",
        "outputId": "94c7d889-41a2-477b-82e4-cf295c2b1480"
      },
      "execution_count": null,
      "outputs": [
        {
          "output_type": "stream",
          "name": "stdout",
          "text": [
            "1\n"
          ]
        },
        {
          "output_type": "error",
          "ename": "AttributeError",
          "evalue": "ignored",
          "traceback": [
            "\u001b[0;31m---------------------------------------------------------------------------\u001b[0m",
            "\u001b[0;31mAttributeError\u001b[0m                            Traceback (most recent call last)",
            "\u001b[0;32m<ipython-input-70-7a4f3bd3a8fe>\u001b[0m in \u001b[0;36m<module>\u001b[0;34m()\u001b[0m\n\u001b[1;32m      2\u001b[0m \u001b[0;34m\u001b[0m\u001b[0m\n\u001b[1;32m      3\u001b[0m \u001b[0mprint\u001b[0m\u001b[0;34m(\u001b[0m\u001b[0mnumbers\u001b[0m\u001b[0;34m[\u001b[0m\u001b[0;36m0\u001b[0m\u001b[0;34m]\u001b[0m\u001b[0;34m)\u001b[0m\u001b[0;34m\u001b[0m\u001b[0;34m\u001b[0m\u001b[0m\n\u001b[0;32m----> 4\u001b[0;31m \u001b[0mprint\u001b[0m\u001b[0;34m(\u001b[0m\u001b[0mnumbers\u001b[0m\u001b[0;34m.\u001b[0m\u001b[0mappend\u001b[0m\u001b[0;34m(\u001b[0m\u001b[0;36m2\u001b[0m\u001b[0;34m)\u001b[0m\u001b[0;34m)\u001b[0m\u001b[0;34m\u001b[0m\u001b[0;34m\u001b[0m\u001b[0m\n\u001b[0m",
            "\u001b[0;31mAttributeError\u001b[0m: 'tuple' object has no attribute 'append'"
          ]
        }
      ]
    },
    {
      "cell_type": "markdown",
      "source": [
        "**24. Unpacking- Can be used for both lists and tuples**"
      ],
      "metadata": {
        "id": "0GvWg2k9Xxgj"
      }
    },
    {
      "cell_type": "code",
      "source": [
        "coordinates= (1,2,3)\n",
        "# x= coordinates[0]\n",
        "# y= coordinates[1]\n",
        "# z= coordinates[2]\n",
        "\n",
        "x,y,z= coordinates \n",
        "print(x)\n",
        "print(y)\n",
        "print(z)"
      ],
      "metadata": {
        "colab": {
          "base_uri": "https://localhost:8080/"
        },
        "id": "mfA1UtQ9X9fq",
        "outputId": "b280f1a4-79d0-49e7-a9df-de5723463c99"
      },
      "execution_count": null,
      "outputs": [
        {
          "output_type": "stream",
          "name": "stdout",
          "text": [
            "1\n",
            "2\n",
            "3\n"
          ]
        }
      ]
    },
    {
      "cell_type": "markdown",
      "source": [
        "**25. Dictioneries- Used when storing information that comes as key value pairs**"
      ],
      "metadata": {
        "id": "b-boPqzPY3DD"
      }
    },
    {
      "cell_type": "code",
      "source": [
        "# Customer has attributes\n",
        "#   Name: Bella\n",
        "#   age: 30\n",
        "#   is_verified: True\n",
        "\n",
        "#each attribute is written only once just like words in a dictionary\n",
        "customer= {\n",
        "    \"name\": \"Bella Simons\",\n",
        "    \"age\": 30,\n",
        "    \"is_verified\": True\n",
        "}\n",
        "print(customer[\"name\"])\n",
        "print(customer.get(\"name\"))\n",
        "\n",
        "#print(customer[\"date_of_birth\"])--> create an error\n",
        "print(customer.get(\"date_of_birth\",\"1st July 2001\"))\n",
        "\n",
        "#updating\n",
        "customer[\"name\"]= \"Isabella Simons\"\n",
        "print(customer.get(\"name\"))"
      ],
      "metadata": {
        "colab": {
          "base_uri": "https://localhost:8080/"
        },
        "id": "2OX0UnPZZACr",
        "outputId": "291df9aa-dcbf-432b-c06b-5c0a48ea343d"
      },
      "execution_count": null,
      "outputs": [
        {
          "output_type": "stream",
          "name": "stdout",
          "text": [
            "Bella Simons\n",
            "Bella Simons\n",
            "1st July 2001\n",
            "Isabella Simons\n"
          ]
        }
      ]
    },
    {
      "cell_type": "markdown",
      "source": [
        "*`Exercise- Find who is the batch top of the class`*"
      ],
      "metadata": {
        "id": "tdDxTjL-JBQS"
      }
    },
    {
      "cell_type": "code",
      "source": [
        "markSheet= {'Name': ['A','B','C','D','E','F','G','H','I','J'], 'Mark': [75,95,88,28,35,48,54,56,71,99]}\n",
        "#find the index of the highest mark\n",
        "\n",
        "#seperate the mark list from the dictionary\n",
        "marks= markSheet['Mark']\n",
        "#suppose that the first student has the highest marks\n",
        "highest_index= 0\n",
        "\n",
        "#identify the highest marks from the list\n",
        "for i in range(1,len(marks)):\n",
        "  #when the loop is execued, if the marks is greater than the 1st element, the highest index is asigned with the new index\n",
        "  if marks[highest_index]<marks[i]:\n",
        "    highest_index=i\n",
        "\n",
        "# Find the corresponding name\n",
        "print('The top of the class is: ', markSheet['Name'][highest_index])"
      ],
      "metadata": {
        "colab": {
          "base_uri": "https://localhost:8080/"
        },
        "id": "IOBgqN2SJFII",
        "outputId": "e8414681-4e8e-486f-a15a-a52877c9611a"
      },
      "execution_count": null,
      "outputs": [
        {
          "output_type": "stream",
          "name": "stdout",
          "text": [
            "The top of the class is:  J\n"
          ]
        }
      ]
    },
    {
      "cell_type": "markdown",
      "source": [
        "range(start, stop, step)"
      ],
      "metadata": {
        "id": "NbiJEu19a6A5"
      }
    },
    {
      "cell_type": "code",
      "source": [
        "#Ex:sequence of numbers from 3 to 19, but increment by 2 instead of 1:\n",
        "\n",
        "x = range(3, 20, 2)\n",
        "for n in x:\n",
        "  print(n)"
      ],
      "metadata": {
        "colab": {
          "base_uri": "https://localhost:8080/"
        },
        "id": "vMnIdu2VbMkf",
        "outputId": "16406466-c3b0-4f16-dbae-e654e185af7a"
      },
      "execution_count": null,
      "outputs": [
        {
          "output_type": "stream",
          "name": "stdout",
          "text": [
            "3\n",
            "5\n",
            "7\n",
            "9\n",
            "11\n",
            "13\n",
            "15\n",
            "17\n",
            "19\n"
          ]
        }
      ]
    },
    {
      "cell_type": "code",
      "source": [
        "#find the top three positions in the class\n",
        "markSheet= {'Name': ['A','B','C','D','E','F','G','H','I','J'], 'Mark': [75,95,88,28,35,48,54,56,71,99]}\n",
        "\n",
        "#seperate the lists and make them in order\n",
        "#[Max,......]\n",
        "#[Max, 2ndMax,......]\n",
        "#[Max, 2ndMax, 3rdMax,......]\n",
        "#so we need to run this loop three times\n",
        "\n",
        "marks= markSheet['Mark']\n",
        "names= markSheet['Name']\n",
        "\n",
        "for i in range(0,3): #last digit is not considered in range function (0,1,2,3)\n",
        "  for j in range(len(marks)-1,i,-1): #len(marks) is already the minimum mark when len(marks)-1is sorted.\n",
        "    if marks[j]>marks[j-1]:\n",
        "      temp1= marks[j]\n",
        "      marks[j]= marks[j-1]\n",
        "      marks[j-1]= temp1\n",
        "      temp2= names[j]\n",
        "      names[j]= names[j-1]\n",
        "      names[j-1]= temp2\n",
        "print('First, Second and Third are: ', names[0:3])     "
      ],
      "metadata": {
        "id": "rhWeWtWBOHRF",
        "colab": {
          "base_uri": "https://localhost:8080/"
        },
        "outputId": "79afd0c9-21cb-4133-976f-38ccc5ccd8b0"
      },
      "execution_count": null,
      "outputs": [
        {
          "output_type": "stream",
          "name": "stdout",
          "text": [
            "First, Second and Third are:  ['J', 'B', 'C']\n"
          ]
        }
      ]
    },
    {
      "cell_type": "code",
      "source": [
        "markSheet= {'Name': ['A','B','C','D','E','F','G','H','I','J'], 'Mark_Maths': [75,95,88,28,35,48,54,56,71,99], 'Mark_Science': [75,76,89,56,48,71,65,100,92,65], 'Mark_English': [100,78,69,98,87,74,54,78,85,99]}\n",
        "#find the average, round it to the nearest decimal point and append it as a column to the dictionary (markSheet)\n",
        "\n",
        "maths= markSheet['Mark_Maths']\n",
        "science= markSheet['Mark_Science']\n",
        "english= markSheet['Mark_English']\n",
        "\n",
        "avgMarks= []\n",
        "\n",
        "#append the average to the empty list\n",
        "for i in range(0,len(maths)):\n",
        "  average= round((maths[i]+science[i]+english[i])/3,0)\n",
        "  avgMarks.append(average)\n",
        "\n",
        "#adding the markSheet dictionary\n",
        "markSheet['Average']=avgMarks\n",
        "print(markSheet)"
      ],
      "metadata": {
        "colab": {
          "base_uri": "https://localhost:8080/"
        },
        "id": "s9RtVa_ZTkCf",
        "outputId": "cf8aa683-a0d9-4bdf-9c4e-2617352263fa"
      },
      "execution_count": null,
      "outputs": [
        {
          "output_type": "stream",
          "name": "stdout",
          "text": [
            "{'Name': ['A', 'B', 'C', 'D', 'E', 'F', 'G', 'H', 'I', 'J'], 'Mark_Maths': [75, 95, 88, 28, 35, 48, 54, 56, 71, 99], 'Mark_Science': [75, 76, 89, 56, 48, 71, 65, 100, 92, 65], 'Mark_English': [100, 78, 69, 98, 87, 74, 54, 78, 85, 99], 'Average': [83.0, 83.0, 82.0, 61.0, 57.0, 64.0, 58.0, 78.0, 83.0, 88.0]}\n"
          ]
        }
      ]
    },
    {
      "cell_type": "markdown",
      "source": [
        "*`Fibonacci Series`*"
      ],
      "metadata": {
        "id": "b8ELyb5oYfNV"
      }
    },
    {
      "cell_type": "code",
      "source": [
        "# Program to display the Fibonacci sequence up to n-th term\n",
        "\n",
        "nterms = int(input(\"How many terms? \"))\n",
        "\n",
        "# first two terms\n",
        "n1, n2 = 0, 1\n",
        "count = 0\n",
        "\n",
        "# check if the number of terms is valid\n",
        "if nterms <= 0:\n",
        "   print(\"Please enter a positive integer\")\n",
        "# if there is only one term, return n1\n",
        "elif nterms == 1:\n",
        "   print(\"Fibonacci sequence upto\",nterms,\":\")\n",
        "   print(n1)\n",
        "# generate fibonacci sequence\n",
        "else:\n",
        "   print(\"Fibonacci sequence:\")\n",
        "   while count < nterms:\n",
        "       print(n1)\n",
        "       nth = n1 + n2\n",
        "       # update values\n",
        "       n1 = n2\n",
        "       n2 = nth\n",
        "       count += 1"
      ],
      "metadata": {
        "colab": {
          "base_uri": "https://localhost:8080/"
        },
        "id": "iG8wDzf4YjSt",
        "outputId": "604796c7-2f71-4820-e751-5cabec411c7d"
      },
      "execution_count": 3,
      "outputs": [
        {
          "output_type": "stream",
          "name": "stdout",
          "text": [
            "How many terms? 3\n",
            "Fibonacci sequence:\n",
            "0\n",
            "1\n",
            "1\n"
          ]
        }
      ]
    }
  ]
}